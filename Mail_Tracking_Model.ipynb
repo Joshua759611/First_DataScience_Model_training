{
 "cells": [
  {
   "cell_type": "code",
   "execution_count": 8,
   "metadata": {},
   "outputs": [],
   "source": [
    "import numpy as np\n",
    "from sklearn import preprocessing\n",
    "#import matplotlib\n",
    "import matplotlib\n",
    "import seaborn\n",
    "import pandas\n",
    "#Creating a sample data\n",
    "#input_data=np.array([[3,-1,5, 3,-64], [0,3,-1.3,4.1],[1,2.3, -29,4.3]])\n",
    "input_data = np.array([[3, -1.5, 3, -6.4], [0, 3, -1.3, 4.1], [1, 2.3, -2.9, -\n",
    "4.3]])"
   ]
  },
  {
   "cell_type": "code",
   "execution_count": 10,
   "metadata": {},
   "outputs": [
    {
     "name": "stdout",
     "output_type": "stream",
     "text": [
      "\n",
      "Mean= [ 5.55111512e-17 -3.70074342e-17  0.00000000e+00 -1.85037171e-17]\n",
      "\n",
      "Std Deviation= [1. 1. 1. 1.]\n"
     ]
    }
   ],
   "source": [
    "data_standardized=preprocessing.scale(input_data)\n",
    "print (\"\\nMean=\",data_standardized.mean(axis=0))\n",
    "print (\"\\nStd Deviation=\",data_standardized.std(axis=0))"
   ]
  },
  {
   "cell_type": "code",
   "execution_count": 11,
   "metadata": {},
   "outputs": [
    {
     "name": "stdout",
     "output_type": "stream",
     "text": [
      "\n",
      "Min Max Scaled Data= [[1.         0.         1.         0.        ]\n",
      " [0.         1.         0.27118644 1.        ]\n",
      " [0.33333333 0.84444444 0.         0.2       ]]\n"
     ]
    }
   ],
   "source": [
    "#Scaling the random data values to match specified rules\n",
    "data_scaler=preprocessing.MinMaxScaler(feature_range=(0,1))\n",
    "data_scaled=data_scaler.fit_transform(input_data)\n",
    "print(\"\\nMin Max Scaled Data=\", data_scaled)"
   ]
  },
  {
   "cell_type": "code",
   "execution_count": 14,
   "metadata": {},
   "outputs": [
    {
     "name": "stdout",
     "output_type": "stream",
     "text": [
      "\n",
      "L1 Normalized Data= [[ 0.21582734 -0.10791367  0.21582734 -0.46043165]\n",
      " [ 0.          0.35714286 -0.1547619   0.48809524]\n",
      " [ 0.0952381   0.21904762 -0.27619048 -0.40952381]]\n"
     ]
    }
   ],
   "source": [
    "#Data normalization. Adjusting values in feature vector so as to measure them on a common scale\n",
    "data_nomalized=preprocessing.normalize(input_data, norm='l1')\n",
    "print(\"\\nL1 Normalized Data=\",data_nomalized)\n",
    "#Normalization is used to ensure that data points do not get boosted due to the nature of their features."
   ]
  },
  {
   "cell_type": "code",
   "execution_count": 16,
   "metadata": {},
   "outputs": [
    {
     "name": "stdout",
     "output_type": "stream",
     "text": [
      "\n",
      "Binarized Data= [[1. 0. 1. 0.]\n",
      " [0. 1. 0. 1.]\n",
      " [0. 1. 0. 0.]]\n"
     ]
    }
   ],
   "source": [
    "#Binarization is used to convert a numerical feature vector into a Boolean vector.\n",
    "data_binarized=preprocessing.Binarizer(threshold=1.4).transform(input_data)\n",
    "print(\"\\nBinarized Data=\",data_binarized)"
   ]
  },
  {
   "cell_type": "code",
   "execution_count": 17,
   "metadata": {},
   "outputs": [
    {
     "name": "stdout",
     "output_type": "stream",
     "text": [
      "\n",
      "Encoded Vector= [[0. 0. 1. 0. 1. 0. 0. 0. 1. 1. 0.]]\n"
     ]
    }
   ],
   "source": [
    "#One Hot Encoding --used when working with few and scattered numerical values that you may not need to store\n",
    "encoder=preprocessing.OneHotEncoder()\n",
    "encoder.fit([[0, 2, 1, 12],[1, 3, 5, 3], [2, 3, 2, 12], [1, 2, 4, 3]])\n",
    "encoded_vector=encoder.transform([[2, 3, 5, 3]]).toarray()\n",
    "print(\"\\nEncoded Vector=\",encoded_vector)"
   ]
  }
 ],
 "metadata": {
  "kernelspec": {
   "display_name": "Python 3.10.6 64-bit",
   "language": "python",
   "name": "python3"
  },
  "language_info": {
   "codemirror_mode": {
    "name": "ipython",
    "version": 3
   },
   "file_extension": ".py",
   "mimetype": "text/x-python",
   "name": "python",
   "nbconvert_exporter": "python",
   "pygments_lexer": "ipython3",
   "version": "3.10.6"
  },
  "orig_nbformat": 4,
  "vscode": {
   "interpreter": {
    "hash": "916dbcbb3f70747c44a77c7bcd40155683ae19c65e1c03b4aa3499c5328201f1"
   }
  }
 },
 "nbformat": 4,
 "nbformat_minor": 2
}
